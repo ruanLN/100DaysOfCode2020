{
 "nbformat": 4,
 "nbformat_minor": 2,
 "metadata": {
  "language_info": {
   "name": "python",
   "codemirror_mode": {
    "name": "ipython",
    "version": 3
   },
   "version": "3.8.1"
  },
  "orig_nbformat": 2,
  "file_extension": ".py",
  "mimetype": "text/x-python",
  "name": "python",
  "npconvert_exporter": "python",
  "pygments_lexer": "ipython3",
  "version": 3
 },
 "cells": [
  {
   "cell_type": "code",
   "execution_count": 1,
   "metadata": {},
   "outputs": [
    {
     "name": "stdout",
     "output_type": "stream",
     "text": "+---+---+---+---+---+---+---+\n| 0 | 0 | 0 | 0 | 0 | 0 | 0 |\n+---+---+---+---+---+---+---+\n| 0 | 0 | 0 | 0 | 0 | 0 | 0 |\n+---+---+---+---+---+---+---+\n| 0 | 0 | 0 | 0 | 0 | 0 | 0 |\n+---+---+---+---+---+---+---+\n| 0 | 0 | 0 | 0 | 0 | 0 | 0 |\n+---+---+---+---+---+---+---+\n| 0 | 0 | 0 | 0 | 0 | 0 | 0 |\n+---+---+---+---+---+---+---+\n| 0 | 0 | 0 | 0 | 0 | 0 | 0 |\n+---+---+---+---+---+---+---+\n\n"
    }
   ],
   "source": [
    "from kaggle_environments import evaluate, make\n",
    "\n",
    "env = make(\"connectx\", debug=True)\n",
    "env.render()"
   ]
  },
  {
   "cell_type": "code",
   "execution_count": 47,
   "metadata": {},
   "outputs": [],
   "source": [
    "# This agent random chooses a non-empty column.\n",
    "def my_agent(observation, configuration):\n",
    "    import operator\n",
    "    #print(observation)\n",
    "    #print(configuration)\n",
    "    free_columns = [x for x in range(configuration.columns) if observation.board[x] == 0]\n",
    "    #print(free_columns)\n",
    "    my_count_in_column = {}\n",
    "    for column in free_columns:\n",
    "        #print(my_count_in_column)\n",
    "        c = 0\n",
    "        for r in range(configuration.rows):\n",
    "            if observation.board[column + configuration.columns * r] == observation.mark:\n",
    "                c += 1\n",
    "        my_count_in_column[column] = c\n",
    "    #print(my_count_in_column)\n",
    "    return max(my_count_in_column.items(), key=operator.itemgetter(1))[0]"
   ]
  },
  {
   "cell_type": "code",
   "execution_count": 48,
   "metadata": {},
   "outputs": [
    {
     "name": "stdout",
     "output_type": "stream",
     "text": "+---+---+---+---+---+---+---+\n| 0 | 0 | 0 | 0 | 0 | 0 | 0 |\n+---+---+---+---+---+---+---+\n| 0 | 0 | 0 | 0 | 0 | 0 | 0 |\n+---+---+---+---+---+---+---+\n| 1 | 0 | 0 | 0 | 0 | 0 | 0 |\n+---+---+---+---+---+---+---+\n| 1 | 0 | 0 | 2 | 0 | 0 | 0 |\n+---+---+---+---+---+---+---+\n| 1 | 0 | 0 | 2 | 0 | 0 | 0 |\n+---+---+---+---+---+---+---+\n| 1 | 0 | 0 | 2 | 0 | 0 | 0 |\n+---+---+---+---+---+---+---+\n\n"
    }
   ],
   "source": [
    "env.reset()\n",
    "# Play as the first agent against default \"random\" agent.\n",
    "env.run([my_agent, \"random\"])\n",
    "env.render()"
   ]
  },
  {
   "cell_type": "code",
   "execution_count": 49,
   "metadata": {},
   "outputs": [
    {
     "name": "stdout",
     "output_type": "stream",
     "text": "My Action 0\nMy Action 0\nMy Action 0\nMy Action 1\nMy Action 1\nMy Action 1\nMy Action 1\nMy Action 2\nMy Action 2\nMy Action 2\nMy Action 3\n+---+---+---+---+---+---+---+\n| 2 | 1 | 1 | 0 | 0 | 0 | 0 |\n+---+---+---+---+---+---+---+\n| 1 | 1 | 2 | 0 | 0 | 0 | 0 |\n+---+---+---+---+---+---+---+\n| 2 | 2 | 1 | 0 | 0 | 0 | 0 |\n+---+---+---+---+---+---+---+\n| 1 | 1 | 2 | 1 | 0 | 0 | 0 |\n+---+---+---+---+---+---+---+\n| 2 | 2 | 1 | 2 | 0 | 0 | 0 |\n+---+---+---+---+---+---+---+\n| 1 | 1 | 2 | 2 | 2 | 0 | 0 |\n+---+---+---+---+---+---+---+\n\n"
    }
   ],
   "source": [
    "# Play as first position against random agent.\n",
    "trainer = env.train([None, \"random\"])\n",
    "\n",
    "observation = trainer.reset()\n",
    "\n",
    "while not env.done:\n",
    "    my_action = my_agent(observation, env.configuration)\n",
    "    print(\"My Action\", my_action)\n",
    "    observation, reward, done, info = trainer.step(my_action)\n",
    "    # env.render(mode=\"ipython\", width=100, height=90, header=False, controls=False)\n",
    "env.render()"
   ]
  },
  {
   "cell_type": "code",
   "execution_count": 50,
   "metadata": {},
   "outputs": [
    {
     "name": "stdout",
     "output_type": "stream",
     "text": "My Agent vs Random Agent: 0.8\nMy Agent vs Negamax Agent: 0.0\n"
    }
   ],
   "source": [
    "def mean_reward(rewards):\n",
    "    return sum(r[0] for r in rewards) / sum(r[0] + r[1] for r in rewards)\n",
    "\n",
    "# Run multiple episodes to estimate it's performance.\n",
    "print(\"My Agent vs Random Agent:\", mean_reward(evaluate(\"connectx\", [my_agent, \"random\"], num_episodes=10)))\n",
    "print(\"My Agent vs Negamax Agent:\", mean_reward(evaluate(\"connectx\", [my_agent, \"negamax\"], num_episodes=10)))"
   ]
  },
  {
   "cell_type": "code",
   "execution_count": 51,
   "metadata": {},
   "outputs": [
    {
     "name": "stdout",
     "output_type": "stream",
     "text": "<function my_agent at 0x7f8b757a7c10> written to submission.py\n"
    }
   ],
   "source": [
    "\n",
    "\n",
    "import inspect\n",
    "import os\n",
    "\n",
    "def write_agent_to_file(function, file):\n",
    "    with open(file, \"w\") as f:\n",
    "        f.write(inspect.getsource(function))\n",
    "        print(function, \"written to\", file)\n",
    "\n",
    "write_agent_to_file(my_agent, \"submission.py\")\n",
    "\n"
   ]
  },
  {
   "cell_type": "code",
   "execution_count": null,
   "metadata": {},
   "outputs": [],
   "source": []
  }
 ]
}